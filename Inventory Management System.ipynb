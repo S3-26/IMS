{
 "cells": [
  {
   "cell_type": "code",
   "execution_count": null,
   "id": "8f6f770b",
   "metadata": {},
   "outputs": [],
   "source": [
    "## Inventory Mangement Creation"
   ]
  },
  {
   "cell_type": "code",
   "execution_count": 35,
   "id": "2ce87bfe",
   "metadata": {},
   "outputs": [],
   "source": [
    "record={ 11:{\"brand\":\"kitkat\",\"cost\":5,\"color\":\"brown\", \"quantity\":10, \"country\":\"India\" },\n",
    "        12:{\"brand\":\"lays\",\"cost\":5,\"color\":\"yellow\", \"quantity\":10, \"country\":\"USA\" },\n",
    "       13:{\"brand\":\"Samsung\",\"cost\":5000,\"color\":\"brown\", \"quantity\":10, \"country\":\"India\" },\n",
    "       14:{\"brand\":\"Perk\",\"cost\":5,\"color\":\"brown\", \"quantity\":10, \"country\":\"India\" },\n",
    "       15:{\"brand\":\"Kent\",\"cost\":10000,\"color\":\"brown\", \"quantity\":10, \"country\":\"India\" },\n",
    "       16:{\"brand\":\"Realme\",\"cost\":500000,\"color\":\"brown\", \"quantity\":10, \"country\":\"India\" },\n",
    "       17:{\"brand\":\"Classmate\",\"cost\":15,\"color\":\"brown\", \"quantity\":10, \"country\":\"India\" },\n",
    "       18:{\"brand\":\"Paragon\",\"cost\":1115,\"color\":\"brown\", \"quantity\":10, \"country\":\"India\" },\n",
    "       19:{\"brand\":\"Tata\",\"cost\":1525,\"color\":\"brown\", \"quantity\":10, \"country\":\"India\" },\n",
    "       20:{\"brand\":\"Jockey\",\"cost\":245,\"color\":\"brown\", \"quantity\":10, \"country\":\"India\" },\n",
    "       21:{\"brand\":\"Bata\",\"cost\":2345,\"color\":\"brown\", \"quantity\":10, \"country\":\"India\" },\n",
    "       22:{\"brand\":\"Nike\",\"cost\":1125,\"color\":\"brown\", \"quantity\":10, \"country\":\"India\" },\n",
    "       23:{\"brand\":\"Pearl\",\"cost\":2335,\"color\":\"brown\", \"quantity\":10, \"country\":\"India\" },\n",
    "       24:{\"brand\":\"Titan\",\"cost\":5000,\"color\":\"brown\", \"quantity\":10, \"country\":\"India\" },\n",
    "       25:{\"brand\":\"Sonata\",\"cost\":2335,\"color\":\"brown\", \"quantity\":10, \"country\":\"India\" },\n",
    "       26:{\"brand\":\"HP\",\"cost\":411115,\"color\":\"brown\", \"quantity\":10, \"country\":\"India\" }}"
   ]
  },
  {
   "cell_type": "code",
   "execution_count": 8,
   "id": "f6fccff9",
   "metadata": {},
   "outputs": [
    {
     "data": {
      "text/plain": [
       "16"
      ]
     },
     "execution_count": 8,
     "metadata": {},
     "output_type": "execute_result"
    }
   ],
   "source": [
    "len(record)"
   ]
  },
  {
   "cell_type": "code",
   "execution_count": null,
   "id": "fd411754",
   "metadata": {},
   "outputs": [],
   "source": [
    "## Dealing with json"
   ]
  },
  {
   "cell_type": "code",
   "execution_count": 9,
   "id": "38533111",
   "metadata": {},
   "outputs": [],
   "source": [
    "import json\n"
   ]
  },
  {
   "cell_type": "code",
   "execution_count": null,
   "id": "3f9ae243",
   "metadata": {},
   "outputs": [],
   "source": [
    "## Converting the dictionary into text"
   ]
  },
  {
   "cell_type": "code",
   "execution_count": 10,
   "id": "5d66bb39",
   "metadata": {},
   "outputs": [],
   "source": [
    "data=json.dumps(record)"
   ]
  },
  {
   "cell_type": "code",
   "execution_count": 11,
   "id": "cabf3fde",
   "metadata": {},
   "outputs": [
    {
     "data": {
      "text/plain": [
       "'{\"11\": {\"brand\": \"kitkat\", \"cost\": 5, \"color\": \"brown\", \"quantity\": 10, \"country\": \"India\"}, \"12\": {\"brand\": \"lays\", \"cost\": 5, \"color\": \"yellow\", \"quantity\": 10, \"country\": \"USA\"}, \"13\": {\"brand\": \"Samsung\", \"cost\": 5000, \"color\": \"brown\", \"quantity\": 10, \"country\": \"India\"}, \"14\": {\"brand\": \"Perk\", \"cost\": 5, \"color\": \"brown\", \"quantity\": 10, \"country\": \"India\"}, \"15\": {\"brand\": \"Kent\", \"cost\": 10000, \"color\": \"brown\", \"quantity\": 10, \"country\": \"India\"}, \"16\": {\"brand\": \"Realme\", \"cost\": 500000, \"color\": \"brown\", \"quantity\": 10, \"country\": \"India\"}, \"17\": {\"brand\": \"Classmate\", \"cost\": 15, \"color\": \"brown\", \"quantity\": 10, \"country\": \"India\"}, \"18\": {\"brand\": \"Paragon\", \"cost\": 1115, \"color\": \"brown\", \"quantity\": 10, \"country\": \"India\"}, \"19\": {\"brand\": \"Tata\", \"cost\": 1525, \"color\": \"brown\", \"quantity\": 10, \"country\": \"India\"}, \"20\": {\"brand\": \"Jockey\", \"cost\": 245, \"color\": \"brown\", \"quantity\": 10, \"country\": \"India\"}, \"21\": {\"brand\": \"Bata\", \"cost\": 2345, \"color\": \"brown\", \"quantity\": 10, \"country\": \"India\"}, \"22\": {\"brand\": \"Nike\", \"cost\": 1125, \"color\": \"brown\", \"quantity\": 10, \"country\": \"India\"}, \"23\": {\"brand\": \"Pearl\", \"cost\": 2335, \"color\": \"brown\", \"quantity\": 10, \"country\": \"India\"}, \"24\": {\"brand\": \"Titan\", \"cost\": 5000, \"color\": \"brown\", \"quantity\": 10, \"country\": \"India\"}, \"25\": {\"brand\": \"Sonata\", \"cost\": 2335, \"color\": \"brown\", \"quantity\": 10, \"country\": \"India\"}, \"26\": {\"brand\": \"HP\", \"cost\": 411115, \"color\": \"brown\", \"quantity\": 10, \"country\": \"India\"}}'"
      ]
     },
     "execution_count": 11,
     "metadata": {},
     "output_type": "execute_result"
    }
   ],
   "source": [
    "data"
   ]
  },
  {
   "cell_type": "code",
   "execution_count": null,
   "id": "814c39d6",
   "metadata": {},
   "outputs": [],
   "source": [
    "## Converting text data back int dictionary"
   ]
  },
  {
   "cell_type": "code",
   "execution_count": 14,
   "id": "c3f7291e",
   "metadata": {},
   "outputs": [],
   "source": [
    "data2=json.loads(data)"
   ]
  },
  {
   "cell_type": "code",
   "execution_count": 15,
   "id": "7518e4ec",
   "metadata": {},
   "outputs": [
    {
     "data": {
      "text/plain": [
       "{'11': {'brand': 'kitkat',\n",
       "  'cost': 5,\n",
       "  'color': 'brown',\n",
       "  'quantity': 10,\n",
       "  'country': 'India'},\n",
       " '12': {'brand': 'lays',\n",
       "  'cost': 5,\n",
       "  'color': 'yellow',\n",
       "  'quantity': 10,\n",
       "  'country': 'USA'},\n",
       " '13': {'brand': 'Samsung',\n",
       "  'cost': 5000,\n",
       "  'color': 'brown',\n",
       "  'quantity': 10,\n",
       "  'country': 'India'},\n",
       " '14': {'brand': 'Perk',\n",
       "  'cost': 5,\n",
       "  'color': 'brown',\n",
       "  'quantity': 10,\n",
       "  'country': 'India'},\n",
       " '15': {'brand': 'Kent',\n",
       "  'cost': 10000,\n",
       "  'color': 'brown',\n",
       "  'quantity': 10,\n",
       "  'country': 'India'},\n",
       " '16': {'brand': 'Realme',\n",
       "  'cost': 500000,\n",
       "  'color': 'brown',\n",
       "  'quantity': 10,\n",
       "  'country': 'India'},\n",
       " '17': {'brand': 'Classmate',\n",
       "  'cost': 15,\n",
       "  'color': 'brown',\n",
       "  'quantity': 10,\n",
       "  'country': 'India'},\n",
       " '18': {'brand': 'Paragon',\n",
       "  'cost': 1115,\n",
       "  'color': 'brown',\n",
       "  'quantity': 10,\n",
       "  'country': 'India'},\n",
       " '19': {'brand': 'Tata',\n",
       "  'cost': 1525,\n",
       "  'color': 'brown',\n",
       "  'quantity': 10,\n",
       "  'country': 'India'},\n",
       " '20': {'brand': 'Jockey',\n",
       "  'cost': 245,\n",
       "  'color': 'brown',\n",
       "  'quantity': 10,\n",
       "  'country': 'India'},\n",
       " '21': {'brand': 'Bata',\n",
       "  'cost': 2345,\n",
       "  'color': 'brown',\n",
       "  'quantity': 10,\n",
       "  'country': 'India'},\n",
       " '22': {'brand': 'Nike',\n",
       "  'cost': 1125,\n",
       "  'color': 'brown',\n",
       "  'quantity': 10,\n",
       "  'country': 'India'},\n",
       " '23': {'brand': 'Pearl',\n",
       "  'cost': 2335,\n",
       "  'color': 'brown',\n",
       "  'quantity': 10,\n",
       "  'country': 'India'},\n",
       " '24': {'brand': 'Titan',\n",
       "  'cost': 5000,\n",
       "  'color': 'brown',\n",
       "  'quantity': 10,\n",
       "  'country': 'India'},\n",
       " '25': {'brand': 'Sonata',\n",
       "  'cost': 2335,\n",
       "  'color': 'brown',\n",
       "  'quantity': 10,\n",
       "  'country': 'India'},\n",
       " '26': {'brand': 'HP',\n",
       "  'cost': 411115,\n",
       "  'color': 'brown',\n",
       "  'quantity': 10,\n",
       "  'country': 'India'}}"
      ]
     },
     "execution_count": 15,
     "metadata": {},
     "output_type": "execute_result"
    }
   ],
   "source": [
    "data2"
   ]
  },
  {
   "cell_type": "code",
   "execution_count": 24,
   "id": "56781a87",
   "metadata": {},
   "outputs": [
    {
     "data": {
      "text/plain": [
       "{11: {'brand': 'kitkat',\n",
       "  'cost': 5,\n",
       "  'color': 'brown',\n",
       "  'quantity': 10,\n",
       "  'country': 'India'},\n",
       " 12: {'brand': 'lays',\n",
       "  'cost': 5,\n",
       "  'color': 'yellow',\n",
       "  'quantity': 10,\n",
       "  'country': 'USA'},\n",
       " 13: {'brand': 'Samsung',\n",
       "  'cost': 5000,\n",
       "  'color': 'brown',\n",
       "  'quantity': 10,\n",
       "  'country': 'India'},\n",
       " 14: {'brand': 'Perk',\n",
       "  'cost': 5,\n",
       "  'color': 'brown',\n",
       "  'quantity': 10,\n",
       "  'country': 'India'},\n",
       " 15: {'brand': 'Kent',\n",
       "  'cost': 10000,\n",
       "  'color': 'brown',\n",
       "  'quantity': 10,\n",
       "  'country': 'India'},\n",
       " 16: {'brand': 'Realme',\n",
       "  'cost': 500000,\n",
       "  'color': 'brown',\n",
       "  'quantity': 10,\n",
       "  'country': 'India'},\n",
       " 17: {'brand': 'Classmate',\n",
       "  'cost': 15,\n",
       "  'color': 'brown',\n",
       "  'quantity': 10,\n",
       "  'country': 'India'},\n",
       " 18: {'brand': 'Paragon',\n",
       "  'cost': 1115,\n",
       "  'color': 'brown',\n",
       "  'quantity': 10,\n",
       "  'country': 'India'},\n",
       " 19: {'brand': 'Tata',\n",
       "  'cost': 1525,\n",
       "  'color': 'brown',\n",
       "  'quantity': 10,\n",
       "  'country': 'India'},\n",
       " 20: {'brand': 'Jockey',\n",
       "  'cost': 245,\n",
       "  'color': 'brown',\n",
       "  'quantity': 10,\n",
       "  'country': 'India'},\n",
       " 21: {'brand': 'Bata',\n",
       "  'cost': 2345,\n",
       "  'color': 'brown',\n",
       "  'quantity': 10,\n",
       "  'country': 'India'},\n",
       " 22: {'brand': 'Nike',\n",
       "  'cost': 1125,\n",
       "  'color': 'brown',\n",
       "  'quantity': 10,\n",
       "  'country': 'India'},\n",
       " 23: {'brand': 'Pearl',\n",
       "  'cost': 2335,\n",
       "  'color': 'brown',\n",
       "  'quantity': 10,\n",
       "  'country': 'India'},\n",
       " 24: {'brand': 'Titan',\n",
       "  'cost': 5000,\n",
       "  'color': 'brown',\n",
       "  'quantity': 10,\n",
       "  'country': 'India'},\n",
       " 25: {'brand': 'Sonata',\n",
       "  'cost': 2335,\n",
       "  'color': 'brown',\n",
       "  'quantity': 10,\n",
       "  'country': 'India'},\n",
       " 26: {'brand': 'HP',\n",
       "  'cost': 411115,\n",
       "  'color': 'brown',\n",
       "  'quantity': 10,\n",
       "  'country': 'India'}}"
      ]
     },
     "execution_count": 24,
     "metadata": {},
     "output_type": "execute_result"
    }
   ],
   "source": [
    "record\n"
   ]
  },
  {
   "cell_type": "code",
   "execution_count": null,
   "id": "35dee412",
   "metadata": {},
   "outputs": [],
   "source": [
    "##  Writing the text data into record.json file"
   ]
  },
  {
   "cell_type": "code",
   "execution_count": null,
   "id": "2a7c94cd",
   "metadata": {},
   "outputs": [],
   "source": [
    "fp=open('record.json','w')\n",
    "fp.write(data)"
   ]
  },
  {
   "cell_type": "code",
   "execution_count": null,
   "id": "af075e1b",
   "metadata": {},
   "outputs": [],
   "source": [
    "##  Reading the data from record.json file"
   ]
  },
  {
   "cell_type": "code",
   "execution_count": 25,
   "id": "dd406189",
   "metadata": {},
   "outputs": [],
   "source": [
    "fp2=json.loads(data)"
   ]
  },
  {
   "cell_type": "code",
   "execution_count": 26,
   "id": "05ff0821",
   "metadata": {},
   "outputs": [
    {
     "data": {
      "text/plain": [
       "{'11': {'brand': 'kitkat',\n",
       "  'cost': 5,\n",
       "  'color': 'brown',\n",
       "  'quantity': 10,\n",
       "  'country': 'India'},\n",
       " '12': {'brand': 'lays',\n",
       "  'cost': 5,\n",
       "  'color': 'yellow',\n",
       "  'quantity': 10,\n",
       "  'country': 'USA'},\n",
       " '13': {'brand': 'Samsung',\n",
       "  'cost': 5000,\n",
       "  'color': 'brown',\n",
       "  'quantity': 10,\n",
       "  'country': 'India'},\n",
       " '14': {'brand': 'Perk',\n",
       "  'cost': 5,\n",
       "  'color': 'brown',\n",
       "  'quantity': 10,\n",
       "  'country': 'India'},\n",
       " '15': {'brand': 'Kent',\n",
       "  'cost': 10000,\n",
       "  'color': 'brown',\n",
       "  'quantity': 10,\n",
       "  'country': 'India'},\n",
       " '16': {'brand': 'Realme',\n",
       "  'cost': 500000,\n",
       "  'color': 'brown',\n",
       "  'quantity': 10,\n",
       "  'country': 'India'},\n",
       " '17': {'brand': 'Classmate',\n",
       "  'cost': 15,\n",
       "  'color': 'brown',\n",
       "  'quantity': 10,\n",
       "  'country': 'India'},\n",
       " '18': {'brand': 'Paragon',\n",
       "  'cost': 1115,\n",
       "  'color': 'brown',\n",
       "  'quantity': 10,\n",
       "  'country': 'India'},\n",
       " '19': {'brand': 'Tata',\n",
       "  'cost': 1525,\n",
       "  'color': 'brown',\n",
       "  'quantity': 10,\n",
       "  'country': 'India'},\n",
       " '20': {'brand': 'Jockey',\n",
       "  'cost': 245,\n",
       "  'color': 'brown',\n",
       "  'quantity': 10,\n",
       "  'country': 'India'},\n",
       " '21': {'brand': 'Bata',\n",
       "  'cost': 2345,\n",
       "  'color': 'brown',\n",
       "  'quantity': 10,\n",
       "  'country': 'India'},\n",
       " '22': {'brand': 'Nike',\n",
       "  'cost': 1125,\n",
       "  'color': 'brown',\n",
       "  'quantity': 10,\n",
       "  'country': 'India'},\n",
       " '23': {'brand': 'Pearl',\n",
       "  'cost': 2335,\n",
       "  'color': 'brown',\n",
       "  'quantity': 10,\n",
       "  'country': 'India'},\n",
       " '24': {'brand': 'Titan',\n",
       "  'cost': 5000,\n",
       "  'color': 'brown',\n",
       "  'quantity': 10,\n",
       "  'country': 'India'},\n",
       " '25': {'brand': 'Sonata',\n",
       "  'cost': 2335,\n",
       "  'color': 'brown',\n",
       "  'quantity': 10,\n",
       "  'country': 'India'},\n",
       " '26': {'brand': 'HP',\n",
       "  'cost': 411115,\n",
       "  'color': 'brown',\n",
       "  'quantity': 10,\n",
       "  'country': 'India'}}"
      ]
     },
     "execution_count": 26,
     "metadata": {},
     "output_type": "execute_result"
    }
   ],
   "source": [
    "fp2"
   ]
  },
  {
   "cell_type": "code",
   "execution_count": null,
   "id": "eb45ffa9",
   "metadata": {},
   "outputs": [],
   "source": [
    "## Sales JSON"
   ]
  },
  {
   "cell_type": "code",
   "execution_count": 36,
   "id": "e21cb992",
   "metadata": {},
   "outputs": [
    {
     "name": "stdout",
     "output_type": "stream",
     "text": [
      "Enter product id11\n",
      "Enter the quanity2\n"
     ]
    }
   ],
   "source": [
    "pid=int(input(\"Enter product id\"))\n",
    "qty=int(input(\"Enter the quanity\"))\n"
   ]
  },
  {
   "cell_type": "code",
   "execution_count": 59,
   "id": "35fe91b8",
   "metadata": {},
   "outputs": [
    {
     "data": {
      "text/plain": [
       "{'id': 11, 'qn': 2, 'amt': 10}"
      ]
     },
     "execution_count": 59,
     "metadata": {},
     "output_type": "execute_result"
    }
   ],
   "source": [
    "{'id':pid ,'qn':qty,'amt':record[pid]['cost'] * qty}"
   ]
  },
  {
   "cell_type": "code",
   "execution_count": 60,
   "id": "6621edce",
   "metadata": {},
   "outputs": [],
   "source": [
    "sales={1:{'id':pid ,'amt':record[pid]['cost'] * qty},\n",
    "      2:{'id':pid ,'amt':record[pid]['cost'] * qty},\n",
    "      3:{'id':pid ,'amt':record[pid]['cost'] * qty}}"
   ]
  },
  {
   "cell_type": "code",
   "execution_count": 61,
   "id": "ba2572b3",
   "metadata": {},
   "outputs": [
    {
     "data": {
      "text/plain": [
       "3"
      ]
     },
     "execution_count": 61,
     "metadata": {},
     "output_type": "execute_result"
    }
   ],
   "source": [
    "len(sales)"
   ]
  },
  {
   "cell_type": "code",
   "execution_count": 62,
   "id": "dfa080cc",
   "metadata": {},
   "outputs": [],
   "source": [
    "record[pid]['quantity']=record[pid]['quantity']-qty"
   ]
  },
  {
   "cell_type": "code",
   "execution_count": 63,
   "id": "d1da4ae7",
   "metadata": {},
   "outputs": [
    {
     "data": {
      "text/plain": [
       "{11: {'brand': 'kitkat',\n",
       "  'cost': 5,\n",
       "  'color': 'brown',\n",
       "  'quantity': 4,\n",
       "  'country': 'India'},\n",
       " 12: {'brand': 'lays',\n",
       "  'cost': 5,\n",
       "  'color': 'yellow',\n",
       "  'quantity': 10,\n",
       "  'country': 'USA'},\n",
       " 13: {'brand': 'Samsung',\n",
       "  'cost': 5000,\n",
       "  'color': 'brown',\n",
       "  'quantity': 10,\n",
       "  'country': 'India'},\n",
       " 14: {'brand': 'Perk',\n",
       "  'cost': 5,\n",
       "  'color': 'brown',\n",
       "  'quantity': 10,\n",
       "  'country': 'India'},\n",
       " 15: {'brand': 'Kent',\n",
       "  'cost': 10000,\n",
       "  'color': 'brown',\n",
       "  'quantity': 10,\n",
       "  'country': 'India'},\n",
       " 16: {'brand': 'Realme',\n",
       "  'cost': 500000,\n",
       "  'color': 'brown',\n",
       "  'quantity': 10,\n",
       "  'country': 'India'},\n",
       " 17: {'brand': 'Classmate',\n",
       "  'cost': 15,\n",
       "  'color': 'brown',\n",
       "  'quantity': 10,\n",
       "  'country': 'India'},\n",
       " 18: {'brand': 'Paragon',\n",
       "  'cost': 1115,\n",
       "  'color': 'brown',\n",
       "  'quantity': 10,\n",
       "  'country': 'India'},\n",
       " 19: {'brand': 'Tata',\n",
       "  'cost': 1525,\n",
       "  'color': 'brown',\n",
       "  'quantity': 10,\n",
       "  'country': 'India'},\n",
       " 20: {'brand': 'Jockey',\n",
       "  'cost': 245,\n",
       "  'color': 'brown',\n",
       "  'quantity': 10,\n",
       "  'country': 'India'},\n",
       " 21: {'brand': 'Bata',\n",
       "  'cost': 2345,\n",
       "  'color': 'brown',\n",
       "  'quantity': 10,\n",
       "  'country': 'India'},\n",
       " 22: {'brand': 'Nike',\n",
       "  'cost': 1125,\n",
       "  'color': 'brown',\n",
       "  'quantity': 10,\n",
       "  'country': 'India'},\n",
       " 23: {'brand': 'Pearl',\n",
       "  'cost': 2335,\n",
       "  'color': 'brown',\n",
       "  'quantity': 10,\n",
       "  'country': 'India'},\n",
       " 24: {'brand': 'Titan',\n",
       "  'cost': 5000,\n",
       "  'color': 'brown',\n",
       "  'quantity': 10,\n",
       "  'country': 'India'},\n",
       " 25: {'brand': 'Sonata',\n",
       "  'cost': 2335,\n",
       "  'color': 'brown',\n",
       "  'quantity': 10,\n",
       "  'country': 'India'},\n",
       " 26: {'brand': 'HP',\n",
       "  'cost': 411115,\n",
       "  'color': 'brown',\n",
       "  'quantity': 10,\n",
       "  'country': 'India'}}"
      ]
     },
     "execution_count": 63,
     "metadata": {},
     "output_type": "execute_result"
    }
   ],
   "source": [
    "record"
   ]
  },
  {
   "cell_type": "code",
   "execution_count": null,
   "id": "f344542f",
   "metadata": {},
   "outputs": [],
   "source": []
  },
  {
   "cell_type": "code",
   "execution_count": null,
   "id": "feb81d67",
   "metadata": {},
   "outputs": [],
   "source": []
  }
 ],
 "metadata": {
  "kernelspec": {
   "display_name": "Python 3",
   "language": "python",
   "name": "python3"
  },
  "language_info": {
   "codemirror_mode": {
    "name": "ipython",
    "version": 3
   },
   "file_extension": ".py",
   "mimetype": "text/x-python",
   "name": "python",
   "nbconvert_exporter": "python",
   "pygments_lexer": "ipython3",
   "version": "3.8.8"
  }
 },
 "nbformat": 4,
 "nbformat_minor": 5
}
